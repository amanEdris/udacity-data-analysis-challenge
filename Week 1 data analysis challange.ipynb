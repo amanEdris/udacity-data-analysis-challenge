{
 "cells": [
  {
   "cell_type": "markdown",
   "metadata": {},
   "source": [
    "### Week 1 Data Analysis Challenge"
   ]
  },
  {
   "cell_type": "code",
   "execution_count": 21,
   "metadata": {},
   "outputs": [],
   "source": [
    "import pandas as pd\n",
    "import numpy as np\n",
    "import matplotlib.pyplot as plt\n",
    "pd.options.mode.chained_assignment = None  # default='warn'"
   ]
  },
  {
   "cell_type": "code",
   "execution_count": 22,
   "metadata": {},
   "outputs": [],
   "source": [
    "#this datasets will be the the dataset used for labeling and data preparations \n",
    "#import dataset \n",
    "districtAMain = pd.read_csv('districtA_household_main.csv', engine='python')\n",
    "districtBMain = pd.read_csv('districtB_household_main.csv',engine='python')\n",
    "districtARoster = pd.read_csv('districtA_household_roster.csv',engine='python')\n",
    "districtBRoster =  pd.read_csv('districtB_household_roster.csv',engine='python')\n"
   ]
  },
  {
   "cell_type": "markdown",
   "metadata": {},
   "source": [
    "### Data understanding "
   ]
  },
  {
   "cell_type": "markdown",
   "metadata": {},
   "source": [
    "#### District A  dataset main"
   ]
  },
  {
   "cell_type": "code",
   "execution_count": 23,
   "metadata": {
    "scrolled": true
   },
   "outputs": [
    {
     "name": "stdout",
     "output_type": "stream",
     "text": [
      "<class 'pandas.core.frame.DataFrame'>\n",
      "RangeIndex: 419 entries, 0 to 418\n",
      "Data columns (total 8 columns):\n",
      " #   Column          Non-Null Count  Dtype  \n",
      "---  ------          --------------  -----  \n",
      " 0   district        419 non-null    object \n",
      " 1   cell            419 non-null    object \n",
      " 2   household_head  419 non-null    object \n",
      " 3   find_hh         419 non-null    int64  \n",
      " 4   consent1        416 non-null    float64\n",
      " 5   children_in_hh  409 non-null    float64\n",
      " 6   hhmembers       404 non-null    float64\n",
      " 7   parent_key      419 non-null    object \n",
      "dtypes: float64(3), int64(1), object(4)\n",
      "memory usage: 26.3+ KB\n"
     ]
    }
   ],
   "source": [
    "#information about district A main dataset\n",
    "districtAMain.info()"
   ]
  },
  {
   "cell_type": "code",
   "execution_count": 24,
   "metadata": {
    "scrolled": false
   },
   "outputs": [
    {
     "data": {
      "text/html": [
       "<div>\n",
       "<style scoped>\n",
       "    .dataframe tbody tr th:only-of-type {\n",
       "        vertical-align: middle;\n",
       "    }\n",
       "\n",
       "    .dataframe tbody tr th {\n",
       "        vertical-align: top;\n",
       "    }\n",
       "\n",
       "    .dataframe thead th {\n",
       "        text-align: right;\n",
       "    }\n",
       "</style>\n",
       "<table border=\"1\" class=\"dataframe\">\n",
       "  <thead>\n",
       "    <tr style=\"text-align: right;\">\n",
       "      <th></th>\n",
       "      <th>district</th>\n",
       "      <th>cell</th>\n",
       "      <th>household_head</th>\n",
       "      <th>find_hh</th>\n",
       "      <th>consent1</th>\n",
       "      <th>children_in_hh</th>\n",
       "      <th>hhmembers</th>\n",
       "      <th>parent_key</th>\n",
       "    </tr>\n",
       "  </thead>\n",
       "  <tbody>\n",
       "    <tr>\n",
       "      <th>0</th>\n",
       "      <td>district A</td>\n",
       "      <td>cell_1</td>\n",
       "      <td>rebeccah</td>\n",
       "      <td>1</td>\n",
       "      <td>1.0</td>\n",
       "      <td>1.0</td>\n",
       "      <td>5.0</td>\n",
       "      <td>uuid:02b646b4-5864-4e87-89a0-e24224ffaddc</td>\n",
       "    </tr>\n",
       "    <tr>\n",
       "      <th>1</th>\n",
       "      <td>district A</td>\n",
       "      <td>cell_1</td>\n",
       "      <td>haze</td>\n",
       "      <td>1</td>\n",
       "      <td>1.0</td>\n",
       "      <td>1.0</td>\n",
       "      <td>5.0</td>\n",
       "      <td>uuid:9f668d17-623f-4fc9-b826-6993a5b73bd6</td>\n",
       "    </tr>\n",
       "    <tr>\n",
       "      <th>2</th>\n",
       "      <td>district A</td>\n",
       "      <td>cell_1</td>\n",
       "      <td>tiphanie</td>\n",
       "      <td>1</td>\n",
       "      <td>1.0</td>\n",
       "      <td>1.0</td>\n",
       "      <td>7.0</td>\n",
       "      <td>uuid:f7efca57-cb9c-4350-92be-3f713795cf7a</td>\n",
       "    </tr>\n",
       "    <tr>\n",
       "      <th>3</th>\n",
       "      <td>district A</td>\n",
       "      <td>cell_1</td>\n",
       "      <td>ariella</td>\n",
       "      <td>1</td>\n",
       "      <td>1.0</td>\n",
       "      <td>1.0</td>\n",
       "      <td>5.0</td>\n",
       "      <td>uuid:30c85e4d-c078-482c-87f1-8a961cb42030</td>\n",
       "    </tr>\n",
       "    <tr>\n",
       "      <th>4</th>\n",
       "      <td>district A</td>\n",
       "      <td>cell_1</td>\n",
       "      <td>cordelia</td>\n",
       "      <td>1</td>\n",
       "      <td>1.0</td>\n",
       "      <td>1.0</td>\n",
       "      <td>7.0</td>\n",
       "      <td>uuid:b030f844-db3d-4cc0-8c11-d8fc942ec8fe</td>\n",
       "    </tr>\n",
       "  </tbody>\n",
       "</table>\n",
       "</div>"
      ],
      "text/plain": [
       "     district    cell household_head  find_hh  consent1  children_in_hh  \\\n",
       "0  district A  cell_1       rebeccah        1       1.0             1.0   \n",
       "1  district A  cell_1           haze        1       1.0             1.0   \n",
       "2  district A  cell_1       tiphanie        1       1.0             1.0   \n",
       "3  district A  cell_1        ariella        1       1.0             1.0   \n",
       "4  district A  cell_1       cordelia        1       1.0             1.0   \n",
       "\n",
       "   hhmembers                                 parent_key  \n",
       "0        5.0  uuid:02b646b4-5864-4e87-89a0-e24224ffaddc  \n",
       "1        5.0  uuid:9f668d17-623f-4fc9-b826-6993a5b73bd6  \n",
       "2        7.0  uuid:f7efca57-cb9c-4350-92be-3f713795cf7a  \n",
       "3        5.0  uuid:30c85e4d-c078-482c-87f1-8a961cb42030  \n",
       "4        7.0  uuid:b030f844-db3d-4cc0-8c11-d8fc942ec8fe  "
      ]
     },
     "execution_count": 24,
     "metadata": {},
     "output_type": "execute_result"
    }
   ],
   "source": [
    "districtAMain.head()"
   ]
  },
  {
   "cell_type": "code",
   "execution_count": 25,
   "metadata": {
    "scrolled": true
   },
   "outputs": [
    {
     "data": {
      "text/plain": [
       "district A    419\n",
       "Name: district, dtype: int64"
      ]
     },
     "execution_count": 25,
     "metadata": {},
     "output_type": "execute_result"
    }
   ],
   "source": [
    "districtAMain['district'].value_counts()"
   ]
  },
  {
   "cell_type": "code",
   "execution_count": 26,
   "metadata": {
    "scrolled": false
   },
   "outputs": [
    {
     "data": {
      "text/plain": [
       "cell_1    140\n",
       "cell_3    140\n",
       "cell_2    139\n",
       "Name: cell, dtype: int64"
      ]
     },
     "execution_count": 26,
     "metadata": {},
     "output_type": "execute_result"
    }
   ],
   "source": [
    "districtAMain['cell'].value_counts()"
   ]
  },
  {
   "cell_type": "code",
   "execution_count": 27,
   "metadata": {
    "scrolled": true
   },
   "outputs": [
    {
     "data": {
      "text/plain": [
       "laurette     2\n",
       "rebeccah     2\n",
       "tiphanie     2\n",
       "judith       2\n",
       "ellis (1)    1\n",
       "            ..\n",
       "jourdain     1\n",
       "deniece      1\n",
       "lina (2)     1\n",
       "oswald       1\n",
       "virginie     1\n",
       "Name: household_head, Length: 415, dtype: int64"
      ]
     },
     "execution_count": 27,
     "metadata": {},
     "output_type": "execute_result"
    }
   ],
   "source": [
    "districtAMain['household_head'].value_counts()"
   ]
  },
  {
   "cell_type": "code",
   "execution_count": 28,
   "metadata": {
    "scrolled": true
   },
   "outputs": [
    {
     "data": {
      "text/plain": [
       "1    416\n",
       "0      3\n",
       "Name: find_hh, dtype: int64"
      ]
     },
     "execution_count": 28,
     "metadata": {},
     "output_type": "execute_result"
    }
   ],
   "source": [
    "districtAMain['find_hh'].value_counts()\n"
   ]
  },
  {
   "cell_type": "code",
   "execution_count": 29,
   "metadata": {
    "scrolled": false
   },
   "outputs": [
    {
     "data": {
      "text/plain": [
       "1.0    409\n",
       "0.0      7\n",
       "Name: consent1, dtype: int64"
      ]
     },
     "execution_count": 29,
     "metadata": {},
     "output_type": "execute_result"
    }
   ],
   "source": [
    "districtAMain['consent1'].value_counts()"
   ]
  },
  {
   "cell_type": "code",
   "execution_count": 30,
   "metadata": {
    "scrolled": false
   },
   "outputs": [
    {
     "data": {
      "text/plain": [
       "1.0    404\n",
       "0.0      5\n",
       "Name: children_in_hh, dtype: int64"
      ]
     },
     "execution_count": 30,
     "metadata": {},
     "output_type": "execute_result"
    }
   ],
   "source": [
    "districtAMain['children_in_hh'].value_counts() #hhmembers"
   ]
  },
  {
   "cell_type": "code",
   "execution_count": 31,
   "metadata": {
    "scrolled": false
   },
   "outputs": [
    {
     "data": {
      "text/plain": [
       "2.0     13\n",
       "3.0     42\n",
       "4.0     83\n",
       "5.0     97\n",
       "6.0     68\n",
       "7.0     52\n",
       "8.0     25\n",
       "9.0     12\n",
       "10.0     7\n",
       "11.0     3\n",
       "12.0     2\n",
       "Name: hhmembers, dtype: int64"
      ]
     },
     "execution_count": 31,
     "metadata": {},
     "output_type": "execute_result"
    }
   ],
   "source": [
    "districtAMain['hhmembers'].value_counts().sort_index()"
   ]
  },
  {
   "cell_type": "code",
   "execution_count": 32,
   "metadata": {
    "scrolled": false
   },
   "outputs": [
    {
     "data": {
      "text/plain": [
       "uuid:8522daea-572c-4353-8d1a-5c11b9954fbe    1\n",
       "uuid:aa23f7ad-22f1-4eb6-9d36-c8e3ca69df84    1\n",
       "uuid:088b0b13-247c-4778-b238-30570b192ad6    1\n",
       "uuid:984e4d53-5e02-492c-b806-f6f3a3e7c3e6    1\n",
       "uuid:016d6c08-f6bb-428d-bfd6-03d3b9e023cc    1\n",
       "                                            ..\n",
       "uuid:01edb35c-66f5-4e36-a658-9654df5ceb6f    1\n",
       "uuid:091eea60-885a-4b09-b9bf-385d9c5edd96    1\n",
       "uuid:b9e33b6f-3f5f-499c-b827-5a15bd1acf81    1\n",
       "uuid:98328001-f623-4867-b9cc-21d73191a017    1\n",
       "uuid:b022b40a-5393-44ef-b661-e5ecda8455bd    1\n",
       "Name: parent_key, Length: 419, dtype: int64"
      ]
     },
     "execution_count": 32,
     "metadata": {},
     "output_type": "execute_result"
    }
   ],
   "source": [
    "#unique value for each household in the district\n",
    "districtAMain['parent_key'].value_counts() "
   ]
  },
  {
   "cell_type": "markdown",
   "metadata": {},
   "source": [
    "#### District A  dataset Roster"
   ]
  },
  {
   "cell_type": "code",
   "execution_count": 33,
   "metadata": {
    "scrolled": true
   },
   "outputs": [
    {
     "name": "stdout",
     "output_type": "stream",
     "text": [
      "<class 'pandas.core.frame.DataFrame'>\n",
      "RangeIndex: 2176 entries, 0 to 2175\n",
      "Data columns (total 5 columns):\n",
      " #   Column               Non-Null Count  Dtype \n",
      "---  ------               --------------  ----- \n",
      " 0   name_hh_member       2176 non-null   object\n",
      " 1   relation_to_hh_head  2176 non-null   int64 \n",
      " 2   gender_hh_member     2176 non-null   int64 \n",
      " 3   age_hh_member        2176 non-null   int64 \n",
      " 4   parent_key           2176 non-null   object\n",
      "dtypes: int64(3), object(2)\n",
      "memory usage: 85.1+ KB\n"
     ]
    }
   ],
   "source": [
    "#information of all district A roster dataset\n",
    "districtARoster.info()"
   ]
  },
  {
   "cell_type": "code",
   "execution_count": 34,
   "metadata": {
    "scrolled": true
   },
   "outputs": [
    {
     "data": {
      "text/plain": [
       "chastity    2\n",
       "earlene     2\n",
       "tiara       2\n",
       "deniece     2\n",
       "karenza     2\n",
       "           ..\n",
       "merrick     1\n",
       "angeline    1\n",
       "carmel      1\n",
       "myron       1\n",
       "elnathan    1\n",
       "Name: name_hh_member, Length: 2157, dtype: int64"
      ]
     },
     "execution_count": 34,
     "metadata": {},
     "output_type": "execute_result"
    }
   ],
   "source": [
    "districtARoster['name_hh_member'].value_counts()"
   ]
  },
  {
   "cell_type": "code",
   "execution_count": 35,
   "metadata": {
    "scrolled": true
   },
   "outputs": [
    {
     "data": {
      "text/plain": [
       "3     1172\n",
       "1      404\n",
       "5      315\n",
       "2      189\n",
       "13      35\n",
       "4       22\n",
       "8       16\n",
       "7        9\n",
       "0        7\n",
       "6        4\n",
       "10       2\n",
       "11       1\n",
       "Name: relation_to_hh_head, dtype: int64"
      ]
     },
     "execution_count": 35,
     "metadata": {},
     "output_type": "execute_result"
    }
   ],
   "source": [
    "districtARoster['relation_to_hh_head'].value_counts()"
   ]
  },
  {
   "cell_type": "code",
   "execution_count": 36,
   "metadata": {
    "scrolled": true
   },
   "outputs": [
    {
     "data": {
      "text/plain": [
       "1    1234\n",
       "0     942\n",
       "Name: gender_hh_member, dtype: int64"
      ]
     },
     "execution_count": 36,
     "metadata": {},
     "output_type": "execute_result"
    }
   ],
   "source": [
    "districtARoster['gender_hh_member'].value_counts()"
   ]
  },
  {
   "cell_type": "code",
   "execution_count": 37,
   "metadata": {
    "scrolled": true
   },
   "outputs": [
    {
     "data": {
      "text/plain": [
       "3     133\n",
       "2     118\n",
       "1     113\n",
       "0      80\n",
       "12     78\n",
       "     ... \n",
       "83      2\n",
       "88      2\n",
       "49      2\n",
       "80      1\n",
       "85      1\n",
       "Name: age_hh_member, Length: 85, dtype: int64"
      ]
     },
     "execution_count": 37,
     "metadata": {},
     "output_type": "execute_result"
    }
   ],
   "source": [
    "districtARoster['age_hh_member'].value_counts()"
   ]
  },
  {
   "cell_type": "code",
   "execution_count": 38,
   "metadata": {
    "scrolled": true
   },
   "outputs": [
    {
     "data": {
      "text/plain": [
       "uuid:6de38636-3d5a-492c-b030-1878c84eccc0    12\n",
       "uuid:231da398-468c-4e81-9f8d-8977e40dd3d5    11\n",
       "uuid:8d72fafd-077c-40b5-b3e1-90c340f28914    11\n",
       "uuid:c90c7374-f28c-41c9-a08a-c2f704b882e3    11\n",
       "uuid:5b61b1ed-736e-4b57-a301-139b8e320a05    11\n",
       "                                             ..\n",
       "uuid:05e89879-1b70-487b-8857-6d0715f34431     2\n",
       "uuid:a33eb92e-561d-4005-a9d9-499e7949e498     2\n",
       "uuid:e4bc511e-4adf-47ca-8092-aebc6b2c07a3     2\n",
       "uuid:72eb0009-7b26-447c-a485-072f337548ab     2\n",
       "uuid:a749ed1d-50bf-4494-9a93-6a53ea3b5504     2\n",
       "Name: parent_key, Length: 405, dtype: int64"
      ]
     },
     "execution_count": 38,
     "metadata": {},
     "output_type": "execute_result"
    }
   ],
   "source": [
    "districtARoster['parent_key'].value_counts()"
   ]
  },
  {
   "cell_type": "markdown",
   "metadata": {},
   "source": [
    "#### District B  dataset main"
   ]
  },
  {
   "cell_type": "code",
   "execution_count": 39,
   "metadata": {
    "scrolled": true
   },
   "outputs": [
    {
     "name": "stdout",
     "output_type": "stream",
     "text": [
      "<class 'pandas.core.frame.DataFrame'>\n",
      "RangeIndex: 281 entries, 0 to 280\n",
      "Data columns (total 8 columns):\n",
      " #   Column          Non-Null Count  Dtype  \n",
      "---  ------          --------------  -----  \n",
      " 0   district        281 non-null    object \n",
      " 1   cell            281 non-null    object \n",
      " 2   household_head  281 non-null    object \n",
      " 3   find_hh         281 non-null    int64  \n",
      " 4   consent1        280 non-null    float64\n",
      " 5   children_in_hh  280 non-null    float64\n",
      " 6   hhmembers       273 non-null    float64\n",
      " 7   parent_key      281 non-null    object \n",
      "dtypes: float64(3), int64(1), object(4)\n",
      "memory usage: 17.7+ KB\n"
     ]
    }
   ],
   "source": [
    "#information about district b main dataset\n",
    "districtBMain.info()"
   ]
  },
  {
   "cell_type": "code",
   "execution_count": 40,
   "metadata": {
    "scrolled": false
   },
   "outputs": [
    {
     "data": {
      "text/html": [
       "<div>\n",
       "<style scoped>\n",
       "    .dataframe tbody tr th:only-of-type {\n",
       "        vertical-align: middle;\n",
       "    }\n",
       "\n",
       "    .dataframe tbody tr th {\n",
       "        vertical-align: top;\n",
       "    }\n",
       "\n",
       "    .dataframe thead th {\n",
       "        text-align: right;\n",
       "    }\n",
       "</style>\n",
       "<table border=\"1\" class=\"dataframe\">\n",
       "  <thead>\n",
       "    <tr style=\"text-align: right;\">\n",
       "      <th></th>\n",
       "      <th>district</th>\n",
       "      <th>cell</th>\n",
       "      <th>household_head</th>\n",
       "      <th>find_hh</th>\n",
       "      <th>consent1</th>\n",
       "      <th>children_in_hh</th>\n",
       "      <th>hhmembers</th>\n",
       "      <th>parent_key</th>\n",
       "    </tr>\n",
       "  </thead>\n",
       "  <tbody>\n",
       "    <tr>\n",
       "      <th>0</th>\n",
       "      <td>district B</td>\n",
       "      <td>cell_1</td>\n",
       "      <td>katey</td>\n",
       "      <td>1</td>\n",
       "      <td>1.0</td>\n",
       "      <td>1.0</td>\n",
       "      <td>4.0</td>\n",
       "      <td>uuid:11531ec3-fa67-4053-979c-98f233b43705</td>\n",
       "    </tr>\n",
       "    <tr>\n",
       "      <th>1</th>\n",
       "      <td>district B</td>\n",
       "      <td>cell_1</td>\n",
       "      <td>malcom</td>\n",
       "      <td>1</td>\n",
       "      <td>1.0</td>\n",
       "      <td>1.0</td>\n",
       "      <td>3.0</td>\n",
       "      <td>uuid:127fa384-9ce7-4bce-9830-0c914b05bdc2</td>\n",
       "    </tr>\n",
       "    <tr>\n",
       "      <th>2</th>\n",
       "      <td>district B</td>\n",
       "      <td>cell_1</td>\n",
       "      <td>lorn</td>\n",
       "      <td>1</td>\n",
       "      <td>1.0</td>\n",
       "      <td>1.0</td>\n",
       "      <td>5.0</td>\n",
       "      <td>uuid:19cbe8c5-eecc-44bd-a964-e91d74e3f83f</td>\n",
       "    </tr>\n",
       "    <tr>\n",
       "      <th>3</th>\n",
       "      <td>district B</td>\n",
       "      <td>cell_1</td>\n",
       "      <td>jeri</td>\n",
       "      <td>1</td>\n",
       "      <td>1.0</td>\n",
       "      <td>1.0</td>\n",
       "      <td>3.0</td>\n",
       "      <td>uuid:1b4e2110-b431-4f58-8ba3-47c39a330396</td>\n",
       "    </tr>\n",
       "    <tr>\n",
       "      <th>4</th>\n",
       "      <td>district B</td>\n",
       "      <td>cell_1</td>\n",
       "      <td>perceval</td>\n",
       "      <td>1</td>\n",
       "      <td>1.0</td>\n",
       "      <td>1.0</td>\n",
       "      <td>6.0</td>\n",
       "      <td>uuid:1ef703ca-714c-4509-8ea1-17df6c621c76</td>\n",
       "    </tr>\n",
       "  </tbody>\n",
       "</table>\n",
       "</div>"
      ],
      "text/plain": [
       "     district    cell household_head  find_hh  consent1  children_in_hh  \\\n",
       "0  district B  cell_1          katey        1       1.0             1.0   \n",
       "1  district B  cell_1         malcom        1       1.0             1.0   \n",
       "2  district B  cell_1           lorn        1       1.0             1.0   \n",
       "3  district B  cell_1           jeri        1       1.0             1.0   \n",
       "4  district B  cell_1       perceval        1       1.0             1.0   \n",
       "\n",
       "   hhmembers                                 parent_key  \n",
       "0        4.0  uuid:11531ec3-fa67-4053-979c-98f233b43705  \n",
       "1        3.0  uuid:127fa384-9ce7-4bce-9830-0c914b05bdc2  \n",
       "2        5.0  uuid:19cbe8c5-eecc-44bd-a964-e91d74e3f83f  \n",
       "3        3.0  uuid:1b4e2110-b431-4f58-8ba3-47c39a330396  \n",
       "4        6.0  uuid:1ef703ca-714c-4509-8ea1-17df6c621c76  "
      ]
     },
     "execution_count": 40,
     "metadata": {},
     "output_type": "execute_result"
    }
   ],
   "source": [
    "districtBMain.head()"
   ]
  },
  {
   "cell_type": "code",
   "execution_count": 41,
   "metadata": {
    "scrolled": true
   },
   "outputs": [
    {
     "data": {
      "text/plain": [
       "district B    281\n",
       "Name: district, dtype: int64"
      ]
     },
     "execution_count": 41,
     "metadata": {},
     "output_type": "execute_result"
    }
   ],
   "source": [
    "districtBMain['district'].value_counts()"
   ]
  },
  {
   "cell_type": "code",
   "execution_count": 42,
   "metadata": {
    "scrolled": false
   },
   "outputs": [
    {
     "data": {
      "text/plain": [
       "cell_2    141\n",
       "cell_1    140\n",
       "Name: cell, dtype: int64"
      ]
     },
     "execution_count": 42,
     "metadata": {},
     "output_type": "execute_result"
    }
   ],
   "source": [
    "districtBMain['cell'].value_counts()"
   ]
  },
  {
   "cell_type": "code",
   "execution_count": 43,
   "metadata": {
    "scrolled": true
   },
   "outputs": [
    {
     "data": {
      "text/plain": [
       "dieudonn_    2\n",
       "benoit       2\n",
       "deirdre      2\n",
       "g_rard       2\n",
       "roswell      1\n",
       "            ..\n",
       "zilla        1\n",
       "will         1\n",
       "marshall     1\n",
       "jasmin       1\n",
       "jeri         1\n",
       "Name: household_head, Length: 277, dtype: int64"
      ]
     },
     "execution_count": 43,
     "metadata": {},
     "output_type": "execute_result"
    }
   ],
   "source": [
    "districtBMain['household_head'].value_counts()"
   ]
  },
  {
   "cell_type": "code",
   "execution_count": 44,
   "metadata": {
    "scrolled": true
   },
   "outputs": [
    {
     "data": {
      "text/plain": [
       "1    280\n",
       "0      1\n",
       "Name: find_hh, dtype: int64"
      ]
     },
     "execution_count": 44,
     "metadata": {},
     "output_type": "execute_result"
    }
   ],
   "source": [
    "districtBMain['find_hh'].value_counts()\n"
   ]
  },
  {
   "cell_type": "code",
   "execution_count": 45,
   "metadata": {
    "scrolled": false
   },
   "outputs": [
    {
     "data": {
      "text/plain": [
       "1.0    280\n",
       "Name: consent1, dtype: int64"
      ]
     },
     "execution_count": 45,
     "metadata": {},
     "output_type": "execute_result"
    }
   ],
   "source": [
    "districtBMain['consent1'].value_counts()"
   ]
  },
  {
   "cell_type": "code",
   "execution_count": 46,
   "metadata": {
    "scrolled": false
   },
   "outputs": [
    {
     "data": {
      "text/plain": [
       "1.0    273\n",
       "0.0      7\n",
       "Name: children_in_hh, dtype: int64"
      ]
     },
     "execution_count": 46,
     "metadata": {},
     "output_type": "execute_result"
    }
   ],
   "source": [
    "districtBMain['children_in_hh'].value_counts() #hhmembers"
   ]
  },
  {
   "cell_type": "code",
   "execution_count": 47,
   "metadata": {
    "scrolled": false
   },
   "outputs": [
    {
     "data": {
      "text/plain": [
       "2.0      3\n",
       "3.0     22\n",
       "4.0     56\n",
       "5.0     58\n",
       "6.0     48\n",
       "7.0     33\n",
       "8.0     23\n",
       "9.0     19\n",
       "10.0     7\n",
       "11.0     3\n",
       "13.0     1\n",
       "Name: hhmembers, dtype: int64"
      ]
     },
     "execution_count": 47,
     "metadata": {},
     "output_type": "execute_result"
    }
   ],
   "source": [
    "districtBMain['hhmembers'].value_counts().sort_index()"
   ]
  },
  {
   "cell_type": "code",
   "execution_count": 48,
   "metadata": {
    "scrolled": false
   },
   "outputs": [
    {
     "data": {
      "text/plain": [
       "uuid:23a9cbf6-15d6-4c3f-84e0-e6a0a0fbfa44    1\n",
       "uuid:ea893dea-adb6-40a4-a792-48331931c50a    1\n",
       "uuid:4b4b7c1c-48c5-4066-88e9-32d9af59a918    1\n",
       "uuid:a5a8dd45-edff-45e7-9302-7e917e0e9d74    1\n",
       "uuid:ad0f875e-797e-4d14-ac0a-22a58763729a    1\n",
       "                                            ..\n",
       "uuid:b7695fb9-17d3-4c00-afdd-70048a87227c    1\n",
       "uuid:53de9735-bb18-400b-bcbd-5f403bcace2f    1\n",
       "uuid:5b39e709-707d-4a92-90c8-224e50c327d4    1\n",
       "uuid:014d7c91-e783-4f17-9801-9cacd1261d75    1\n",
       "uuid:64bcc564-a870-493c-bcd8-8f029d828458    1\n",
       "Name: parent_key, Length: 281, dtype: int64"
      ]
     },
     "execution_count": 48,
     "metadata": {},
     "output_type": "execute_result"
    }
   ],
   "source": [
    "#unique value for each household in the district\n",
    "districtBMain['parent_key'].value_counts() "
   ]
  },
  {
   "cell_type": "markdown",
   "metadata": {},
   "source": [
    "#### District B  dataset Roster"
   ]
  },
  {
   "cell_type": "code",
   "execution_count": 49,
   "metadata": {
    "scrolled": true
   },
   "outputs": [
    {
     "name": "stdout",
     "output_type": "stream",
     "text": [
      "<class 'pandas.core.frame.DataFrame'>\n",
      "RangeIndex: 1571 entries, 0 to 1570\n",
      "Data columns (total 5 columns):\n",
      " #   Column               Non-Null Count  Dtype \n",
      "---  ------               --------------  ----- \n",
      " 0   name_hh_member       1569 non-null   object\n",
      " 1   relation_to_hh_head  1571 non-null   int64 \n",
      " 2   gender_hh_member     1571 non-null   int64 \n",
      " 3   age_hh_member        1571 non-null   int64 \n",
      " 4   parent_key           1571 non-null   object\n",
      "dtypes: int64(3), object(2)\n",
      "memory usage: 61.5+ KB\n"
     ]
    }
   ],
   "source": [
    "districtBRoster.info()"
   ]
  },
  {
   "cell_type": "code",
   "execution_count": 50,
   "metadata": {
    "scrolled": true
   },
   "outputs": [
    {
     "data": {
      "text/plain": [
       "deirdre     2\n",
       "kagiso      2\n",
       "aura        2\n",
       "sharlene    2\n",
       "prisca      2\n",
       "           ..\n",
       "jasmin      1\n",
       "jerold      1\n",
       "austen      1\n",
       "maurice     1\n",
       "wade        1\n",
       "Name: name_hh_member, Length: 1563, dtype: int64"
      ]
     },
     "execution_count": 50,
     "metadata": {},
     "output_type": "execute_result"
    }
   ],
   "source": [
    "districtBRoster['name_hh_member'].value_counts()"
   ]
  },
  {
   "cell_type": "code",
   "execution_count": 51,
   "metadata": {
    "scrolled": true
   },
   "outputs": [
    {
     "data": {
      "text/plain": [
       "3     856\n",
       "1     274\n",
       "5     261\n",
       "2     130\n",
       "4      21\n",
       "13     14\n",
       "8       6\n",
       "6       4\n",
       "10      2\n",
       "12      1\n",
       "7       1\n",
       "0       1\n",
       "Name: relation_to_hh_head, dtype: int64"
      ]
     },
     "execution_count": 51,
     "metadata": {},
     "output_type": "execute_result"
    }
   ],
   "source": [
    "districtBRoster['relation_to_hh_head'].value_counts()"
   ]
  },
  {
   "cell_type": "code",
   "execution_count": 52,
   "metadata": {
    "scrolled": true
   },
   "outputs": [
    {
     "data": {
      "text/plain": [
       "1    912\n",
       "0    659\n",
       "Name: gender_hh_member, dtype: int64"
      ]
     },
     "execution_count": 52,
     "metadata": {},
     "output_type": "execute_result"
    }
   ],
   "source": [
    "districtBRoster['gender_hh_member'].value_counts()"
   ]
  },
  {
   "cell_type": "code",
   "execution_count": 53,
   "metadata": {
    "scrolled": true
   },
   "outputs": [
    {
     "data": {
      "text/plain": [
       "2     83\n",
       "1     76\n",
       "3     75\n",
       "0     69\n",
       "5     57\n",
       "      ..\n",
       "71     1\n",
       "78     1\n",
       "77     1\n",
       "75     1\n",
       "99     1\n",
       "Name: age_hh_member, Length: 90, dtype: int64"
      ]
     },
     "execution_count": 53,
     "metadata": {},
     "output_type": "execute_result"
    }
   ],
   "source": [
    "districtBRoster['age_hh_member'].value_counts()"
   ]
  },
  {
   "cell_type": "code",
   "execution_count": 54,
   "metadata": {
    "scrolled": true
   },
   "outputs": [
    {
     "data": {
      "text/plain": [
       "uuid:5b39e709-707d-4a92-90c8-224e50c327d4    13\n",
       "uuid:f1b9a11d-d1d1-4767-90b5-17d42e843c86    11\n",
       "uuid:3eea9758-77c2-4730-97c1-6c4c4984c0be    11\n",
       "uuid:8c0255ca-7d63-40f9-804a-67c52c40e01d    11\n",
       "uuid:fde701a8-e48c-4346-91bf-3aace0484efc    10\n",
       "                                             ..\n",
       "uuid:701d40b1-8360-4706-a80d-341f697131fe     3\n",
       "uuid:5b00477f-e8d6-49f8-972b-a94e47fe81fd     3\n",
       "uuid:6387db51-8aea-4eb7-8d7e-9e7c3a896ac1     2\n",
       "uuid:6c7a5f47-f72b-4ff8-a9b6-97908407b5e1     2\n",
       "uuid:603a56cf-c1b7-4088-be5f-8861c19c4787     2\n",
       "Name: parent_key, Length: 273, dtype: int64"
      ]
     },
     "execution_count": 54,
     "metadata": {},
     "output_type": "execute_result"
    }
   ],
   "source": [
    "districtBRoster['parent_key'].value_counts()"
   ]
  },
  {
   "cell_type": "markdown",
   "metadata": {},
   "source": [
    "# Data preparation"
   ]
  },
  {
   "cell_type": "markdown",
   "metadata": {},
   "source": [
    "## Question 1"
   ]
  },
  {
   "cell_type": "markdown",
   "metadata": {},
   "source": [
    "### Using the variables names and values from table provided please label:\n",
    "####          a. all variables in the main and roster datasets\n"
   ]
  },
  {
   "cell_type": "code",
   "execution_count": 55,
   "metadata": {},
   "outputs": [
    {
     "data": {
      "text/html": [
       "<div>\n",
       "<style scoped>\n",
       "    .dataframe tbody tr th:only-of-type {\n",
       "        vertical-align: middle;\n",
       "    }\n",
       "\n",
       "    .dataframe tbody tr th {\n",
       "        vertical-align: top;\n",
       "    }\n",
       "\n",
       "    .dataframe thead th {\n",
       "        text-align: right;\n",
       "    }\n",
       "</style>\n",
       "<table border=\"1\" class=\"dataframe\">\n",
       "  <thead>\n",
       "    <tr style=\"text-align: right;\">\n",
       "      <th></th>\n",
       "      <th>District of residence</th>\n",
       "      <th>Cell of residence</th>\n",
       "      <th>Household head names</th>\n",
       "      <th>If the household was found</th>\n",
       "      <th>Consent to list household members</th>\n",
       "      <th>If there are children under 5 in the household</th>\n",
       "      <th>Number of household members</th>\n",
       "      <th>uniqueID</th>\n",
       "    </tr>\n",
       "  </thead>\n",
       "  <tbody>\n",
       "    <tr>\n",
       "      <th>0</th>\n",
       "      <td>district A</td>\n",
       "      <td>cell_1</td>\n",
       "      <td>rebeccah</td>\n",
       "      <td>1</td>\n",
       "      <td>1.0</td>\n",
       "      <td>1.0</td>\n",
       "      <td>5.0</td>\n",
       "      <td>uuid:02b646b4-5864-4e87-89a0-e24224ffaddc</td>\n",
       "    </tr>\n",
       "    <tr>\n",
       "      <th>1</th>\n",
       "      <td>district A</td>\n",
       "      <td>cell_1</td>\n",
       "      <td>haze</td>\n",
       "      <td>1</td>\n",
       "      <td>1.0</td>\n",
       "      <td>1.0</td>\n",
       "      <td>5.0</td>\n",
       "      <td>uuid:9f668d17-623f-4fc9-b826-6993a5b73bd6</td>\n",
       "    </tr>\n",
       "    <tr>\n",
       "      <th>2</th>\n",
       "      <td>district A</td>\n",
       "      <td>cell_1</td>\n",
       "      <td>tiphanie</td>\n",
       "      <td>1</td>\n",
       "      <td>1.0</td>\n",
       "      <td>1.0</td>\n",
       "      <td>7.0</td>\n",
       "      <td>uuid:f7efca57-cb9c-4350-92be-3f713795cf7a</td>\n",
       "    </tr>\n",
       "    <tr>\n",
       "      <th>3</th>\n",
       "      <td>district A</td>\n",
       "      <td>cell_1</td>\n",
       "      <td>ariella</td>\n",
       "      <td>1</td>\n",
       "      <td>1.0</td>\n",
       "      <td>1.0</td>\n",
       "      <td>5.0</td>\n",
       "      <td>uuid:30c85e4d-c078-482c-87f1-8a961cb42030</td>\n",
       "    </tr>\n",
       "    <tr>\n",
       "      <th>4</th>\n",
       "      <td>district A</td>\n",
       "      <td>cell_1</td>\n",
       "      <td>cordelia</td>\n",
       "      <td>1</td>\n",
       "      <td>1.0</td>\n",
       "      <td>1.0</td>\n",
       "      <td>7.0</td>\n",
       "      <td>uuid:b030f844-db3d-4cc0-8c11-d8fc942ec8fe</td>\n",
       "    </tr>\n",
       "    <tr>\n",
       "      <th>...</th>\n",
       "      <td>...</td>\n",
       "      <td>...</td>\n",
       "      <td>...</td>\n",
       "      <td>...</td>\n",
       "      <td>...</td>\n",
       "      <td>...</td>\n",
       "      <td>...</td>\n",
       "      <td>...</td>\n",
       "    </tr>\n",
       "    <tr>\n",
       "      <th>414</th>\n",
       "      <td>district A</td>\n",
       "      <td>cell_3</td>\n",
       "      <td>warner</td>\n",
       "      <td>1</td>\n",
       "      <td>1.0</td>\n",
       "      <td>1.0</td>\n",
       "      <td>5.0</td>\n",
       "      <td>uuid:2923c553-3800-4dd9-81bd-a99bd9e7da7e</td>\n",
       "    </tr>\n",
       "    <tr>\n",
       "      <th>415</th>\n",
       "      <td>district A</td>\n",
       "      <td>cell_3</td>\n",
       "      <td>elric</td>\n",
       "      <td>1</td>\n",
       "      <td>1.0</td>\n",
       "      <td>1.0</td>\n",
       "      <td>6.0</td>\n",
       "      <td>uuid:cae6dad6-34f1-4bef-8ab9-5087054317c9</td>\n",
       "    </tr>\n",
       "    <tr>\n",
       "      <th>416</th>\n",
       "      <td>district A</td>\n",
       "      <td>cell_3</td>\n",
       "      <td>chrysanta</td>\n",
       "      <td>1</td>\n",
       "      <td>1.0</td>\n",
       "      <td>1.0</td>\n",
       "      <td>4.0</td>\n",
       "      <td>uuid:088b0b13-247c-4778-b238-30570b192ad6</td>\n",
       "    </tr>\n",
       "    <tr>\n",
       "      <th>417</th>\n",
       "      <td>district A</td>\n",
       "      <td>cell_3</td>\n",
       "      <td>phinehas</td>\n",
       "      <td>1</td>\n",
       "      <td>1.0</td>\n",
       "      <td>1.0</td>\n",
       "      <td>3.0</td>\n",
       "      <td>uuid:66959521-ec9f-4281-a868-e57a0d84eeff</td>\n",
       "    </tr>\n",
       "    <tr>\n",
       "      <th>418</th>\n",
       "      <td>district A</td>\n",
       "      <td>cell_3</td>\n",
       "      <td>jillie</td>\n",
       "      <td>1</td>\n",
       "      <td>1.0</td>\n",
       "      <td>1.0</td>\n",
       "      <td>7.0</td>\n",
       "      <td>uuid:f3162f59-1294-4516-b3f4-2ce51f414610</td>\n",
       "    </tr>\n",
       "  </tbody>\n",
       "</table>\n",
       "<p>419 rows × 8 columns</p>\n",
       "</div>"
      ],
      "text/plain": [
       "    District of residence Cell of residence Household head names  \\\n",
       "0              district A            cell_1             rebeccah   \n",
       "1              district A            cell_1                 haze   \n",
       "2              district A            cell_1             tiphanie   \n",
       "3              district A            cell_1              ariella   \n",
       "4              district A            cell_1             cordelia   \n",
       "..                    ...               ...                  ...   \n",
       "414            district A            cell_3               warner   \n",
       "415            district A            cell_3                elric   \n",
       "416            district A            cell_3            chrysanta   \n",
       "417            district A            cell_3             phinehas   \n",
       "418            district A            cell_3               jillie   \n",
       "\n",
       "     If the household was found  Consent to list household members  \\\n",
       "0                             1                                1.0   \n",
       "1                             1                                1.0   \n",
       "2                             1                                1.0   \n",
       "3                             1                                1.0   \n",
       "4                             1                                1.0   \n",
       "..                          ...                                ...   \n",
       "414                           1                                1.0   \n",
       "415                           1                                1.0   \n",
       "416                           1                                1.0   \n",
       "417                           1                                1.0   \n",
       "418                           1                                1.0   \n",
       "\n",
       "     If there are children under 5 in the household  \\\n",
       "0                                               1.0   \n",
       "1                                               1.0   \n",
       "2                                               1.0   \n",
       "3                                               1.0   \n",
       "4                                               1.0   \n",
       "..                                              ...   \n",
       "414                                             1.0   \n",
       "415                                             1.0   \n",
       "416                                             1.0   \n",
       "417                                             1.0   \n",
       "418                                             1.0   \n",
       "\n",
       "     Number of household members                                   uniqueID  \n",
       "0                            5.0  uuid:02b646b4-5864-4e87-89a0-e24224ffaddc  \n",
       "1                            5.0  uuid:9f668d17-623f-4fc9-b826-6993a5b73bd6  \n",
       "2                            7.0  uuid:f7efca57-cb9c-4350-92be-3f713795cf7a  \n",
       "3                            5.0  uuid:30c85e4d-c078-482c-87f1-8a961cb42030  \n",
       "4                            7.0  uuid:b030f844-db3d-4cc0-8c11-d8fc942ec8fe  \n",
       "..                           ...                                        ...  \n",
       "414                          5.0  uuid:2923c553-3800-4dd9-81bd-a99bd9e7da7e  \n",
       "415                          6.0  uuid:cae6dad6-34f1-4bef-8ab9-5087054317c9  \n",
       "416                          4.0  uuid:088b0b13-247c-4778-b238-30570b192ad6  \n",
       "417                          3.0  uuid:66959521-ec9f-4281-a868-e57a0d84eeff  \n",
       "418                          7.0  uuid:f3162f59-1294-4516-b3f4-2ce51f414610  \n",
       "\n",
       "[419 rows x 8 columns]"
      ]
     },
     "execution_count": 55,
     "metadata": {},
     "output_type": "execute_result"
    }
   ],
   "source": [
    "#Assign variable type String\n",
    "districtAMain['district'] = districtAMain['district'].apply(str)\n",
    "districtAMain['cell'] = districtAMain['cell'].apply(str)\n",
    "districtAMain['household_head'] = districtAMain['household_head'].apply(str)\n",
    "\n",
    "#create variable label more at->(https://stackoverflow.com/questions/48243818/display-column-name-different-from-dictionary-key-name-in-pandas)\n",
    "#define a dictonary with all the column names and values\n",
    "di = {'district':'District of residence','cell':'Cell of residence','household_head':'Household head names',\n",
    "      'find_hh':'If the household was found', 'consent1':'Consent to list household members','children_in_hh':'If there are children under 5 in the household',\n",
    "     'hhmembers':'Number of household members','name_hh_members':'Name of household members','relation_to_hh_head':'Relationship of household member to household head'\n",
    "     ,'gender_hh_member':'Gender of household member','age_hh_member':'Age of household member','parent_key':'uniqueID'}\n",
    "#we can refer to label using dictionary keys 1 \n",
    "districtAMain.rename(di,axis=1)"
   ]
  },
  {
   "cell_type": "markdown",
   "metadata": {},
   "source": [
    "#### b. the values of all categorical variables"
   ]
  },
  {
   "cell_type": "code",
   "execution_count": 56,
   "metadata": {},
   "outputs": [
    {
     "data": {
      "text/plain": [
       "<matplotlib.axes._subplots.AxesSubplot at 0x7faa9d9ecd90>"
      ]
     },
     "execution_count": 56,
     "metadata": {},
     "output_type": "execute_result"
    },
    {
     "data": {
      "image/png": "[encoded data removed]",
      "text/plain": [
       "<Figure size 432x288 with 1 Axes>"
      ]
     },
     "metadata": {
      "needs_background": "light"
     },
     "output_type": "display_data"
    }
   ],
   "source": [
    "#create a label dictonary for relation_to_hh_head \n",
    "dRelations={0:'Other non-relative',1:'Self',2:'Spouse',3:'Child',4:'Adopted child',5:'Grandchild',6:'Niece/Nephew',\n",
    "   7:'Father/mother',8:'Sister/Brother',9:'Cousin Sister/Brother',10:'Son/Daughter in law',\n",
    "   11:'Brother/Sister in law',12:'Father/Mother in law',13:'Other relative'}\n",
    "\n",
    "#distribution of realtives of house hold members with out label district A\n",
    "districtARoster['relation_to_hh_head'].hist()\n"
   ]
  },
  {
   "cell_type": "code",
   "execution_count": 57,
   "metadata": {},
   "outputs": [
    {
     "data": {
      "text/plain": [
       "([0, 1, 2, 3, 4, 5, 6, 7, 8, 9, 10, 11],\n",
       " <a list of 12 Text major ticklabel objects>)"
      ]
     },
     "execution_count": 57,
     "metadata": {},
     "output_type": "execute_result"
    },
    {
     "data": {
      "image/png": "[encoded data removed]",
      "text/plain": [
       "<Figure size 432x288 with 1 Axes>"
      ]
     },
     "metadata": {
      "needs_background": "light"
     },
     "output_type": "display_data"
    }
   ],
   "source": [
    "#distribution of realtives of house hold members with label district A\n",
    "districtARoster.relation_to_hh_head.apply(lambda x:dRelations[x]).sort_index().hist()\n",
    "plt.title(di['relation_to_hh_head']+\"  district A\")#get variable labels\n",
    "plt.xticks(rotation=90)"
   ]
  },
  {
   "cell_type": "code",
   "execution_count": 58,
   "metadata": {},
   "outputs": [
    {
     "data": {
      "text/plain": [
       "([0, 1, 2, 3, 4, 5, 6, 7, 8, 9, 10, 11],\n",
       " <a list of 12 Text major ticklabel objects>)"
      ]
     },
     "execution_count": 58,
     "metadata": {},
     "output_type": "execute_result"
    },
    {
     "data": {
      "image/png": "[encoded data removed]",
      "text/plain": [
       "<Figure size 432x288 with 1 Axes>"
      ]
     },
     "metadata": {
      "needs_background": "light"
     },
     "output_type": "display_data"
    }
   ],
   "source": [
    "#distribution of household memebers for district B with labels\n",
    "districtBRoster.relation_to_hh_head.apply(lambda x:dRelations[x]).sort_index().hist()\n",
    "plt.title(di['relation_to_hh_head']+\"  district B\")\n",
    "plt.xticks(rotation=90)"
   ]
  },
  {
   "cell_type": "code",
   "execution_count": 59,
   "metadata": {},
   "outputs": [
    {
     "data": {
      "text/plain": [
       "Text(0.5, 1.0, 'If the household was found  district A')"
      ]
     },
     "execution_count": 59,
     "metadata": {},
     "output_type": "execute_result"
    },
    {
     "data": {
      "image/png": "[encoded data removed]",
      "text/plain": [
       "<Figure size 432x288 with 1 Axes>"
      ]
     },
     "metadata": {
      "needs_background": "light"
     },
     "output_type": "display_data"
    }
   ],
   "source": [
    "#create a label for categorical values yes or no \n",
    "d={0:\"No\",1:\"Yes\"}\n",
    "\n",
    "districtAMain.find_hh.apply(lambda x:d[x]).hist()\n",
    "plt.title(di['find_hh']+\"  district A\")\n"
   ]
  },
  {
   "cell_type": "code",
   "execution_count": 60,
   "metadata": {
    "scrolled": false
   },
   "outputs": [
    {
     "data": {
      "text/plain": [
       "Text(0.5, 1.0, 'If the household was found  district B')"
      ]
     },
     "execution_count": 60,
     "metadata": {},
     "output_type": "execute_result"
    },
    {
     "data": {
      "image/png": "[encoded data removed]",
      "text/plain": [
       "<Figure size 432x288 with 1 Axes>"
      ]
     },
     "metadata": {
      "needs_background": "light"
     },
     "output_type": "display_data"
    }
   ],
   "source": [
    "districtBMain.find_hh.apply(lambda x:d[x]).hist()\n",
    "plt.title(di['find_hh']+\"  district B\")"
   ]
  },
  {
   "cell_type": "code",
   "execution_count": 61,
   "metadata": {},
   "outputs": [
    {
     "data": {
      "text/plain": [
       "Text(0.5, 1.0, 'Gender of household member  district A')"
      ]
     },
     "execution_count": 61,
     "metadata": {},
     "output_type": "execute_result"
    },
    {
     "data": {
      "image/png": "[encoded data removed]",
      "text/plain": [
       "<Figure size 432x288 with 1 Axes>"
      ]
     },
     "metadata": {
      "needs_background": "light"
     },
     "output_type": "display_data"
    }
   ],
   "source": [
    "#create a label for gender\n",
    "dc = {0:\"Female\",1:\"Male\"}\n",
    "districtARoster.gender_hh_member.apply(lambda x:dc[x]).hist()\n",
    "plt.title(di['gender_hh_member']+\"  district A\")"
   ]
  },
  {
   "cell_type": "code",
   "execution_count": 62,
   "metadata": {},
   "outputs": [
    {
     "data": {
      "text/plain": [
       "Text(0.5, 1.0, 'Gender of household member  district B')"
      ]
     },
     "execution_count": 62,
     "metadata": {},
     "output_type": "execute_result"
    },
    {
     "data": {
      "image/png": "[encoded data removed]",
      "text/plain": [
       "<Figure size 432x288 with 1 Axes>"
      ]
     },
     "metadata": {
      "needs_background": "light"
     },
     "output_type": "display_data"
    }
   ],
   "source": [
    "districtBRoster.gender_hh_member.apply(lambda x:dc[x]).hist()\n",
    "plt.title(di['gender_hh_member']+\"  district B\")"
   ]
  },
  {
   "cell_type": "markdown",
   "metadata": {},
   "source": [
    "# Questions 2"
   ]
  },
  {
   "cell_type": "markdown",
   "metadata": {},
   "source": [
    "Please create a dataset combining the main and roster data so that we have one observation per household with all household members as well as their personal information contained in the roster for both districts. Save this dataset as “all_households_yourname_yyyymmdd”."
   ]
  },
  {
   "cell_type": "code",
   "execution_count": 63,
   "metadata": {},
   "outputs": [],
   "source": [
    "#Join district A datasets see more -> https://stackoverflow.com/questions/26645515/pandas-join-issue-columns-overlap-but-no-suffix-specified\n",
    "districtAMain.set_index('parent_key', inplace=True)\n",
    "districtARoster.set_index('parent_key', inplace=True)\n",
    "join_A = districtAMain.join(districtARoster)\n",
    "\n",
    "\n",
    "\n"
   ]
  },
  {
   "cell_type": "code",
   "execution_count": 64,
   "metadata": {},
   "outputs": [],
   "source": [
    "#Join district B houses dataset\n",
    "districtBMain.set_index('parent_key', inplace=True)\n",
    "districtBRoster.set_index('parent_key', inplace=True)\n",
    "join_B= districtBMain.join(districtBRoster)"
   ]
  },
  {
   "cell_type": "code",
   "execution_count": 65,
   "metadata": {
    "scrolled": true
   },
   "outputs": [
    {
     "name": "stdout",
     "output_type": "stream",
     "text": [
      "<class 'pandas.core.frame.DataFrame'>\n",
      "Index: 2190 entries, uuid:0096689e-95b2-4d28-95b9-458d4a41245e to uuid:ffc90085-5f35-4410-b165-4a94f0cb3d73\n",
      "Data columns (total 11 columns):\n",
      " #   Column               Non-Null Count  Dtype  \n",
      "---  ------               --------------  -----  \n",
      " 0   district             2190 non-null   object \n",
      " 1   cell                 2190 non-null   object \n",
      " 2   household_head       2190 non-null   object \n",
      " 3   find_hh              2190 non-null   int64  \n",
      " 4   consent1             2187 non-null   float64\n",
      " 5   children_in_hh       2180 non-null   float64\n",
      " 6   hhmembers            2170 non-null   float64\n",
      " 7   name_hh_member       2176 non-null   object \n",
      " 8   relation_to_hh_head  2176 non-null   float64\n",
      " 9   gender_hh_member     2176 non-null   float64\n",
      " 10  age_hh_member        2176 non-null   float64\n",
      "dtypes: float64(6), int64(1), object(4)\n",
      "memory usage: 205.3+ KB\n"
     ]
    }
   ],
   "source": [
    "#check the stastics\n",
    "join_A.info() "
   ]
  },
  {
   "cell_type": "code",
   "execution_count": 66,
   "metadata": {},
   "outputs": [
    {
     "data": {
      "text/html": [
       "<div>\n",
       "<style scoped>\n",
       "    .dataframe tbody tr th:only-of-type {\n",
       "        vertical-align: middle;\n",
       "    }\n",
       "\n",
       "    .dataframe tbody tr th {\n",
       "        vertical-align: top;\n",
       "    }\n",
       "\n",
       "    .dataframe thead th {\n",
       "        text-align: right;\n",
       "    }\n",
       "</style>\n",
       "<table border=\"1\" class=\"dataframe\">\n",
       "  <thead>\n",
       "    <tr style=\"text-align: right;\">\n",
       "      <th></th>\n",
       "      <th>district</th>\n",
       "      <th>cell</th>\n",
       "      <th>household_head</th>\n",
       "      <th>find_hh</th>\n",
       "      <th>consent1</th>\n",
       "      <th>children_in_hh</th>\n",
       "      <th>hhmembers</th>\n",
       "      <th>name_hh_member</th>\n",
       "      <th>relation_to_hh_head</th>\n",
       "      <th>gender_hh_member</th>\n",
       "      <th>age_hh_member</th>\n",
       "    </tr>\n",
       "    <tr>\n",
       "      <th>parent_key</th>\n",
       "      <th></th>\n",
       "      <th></th>\n",
       "      <th></th>\n",
       "      <th></th>\n",
       "      <th></th>\n",
       "      <th></th>\n",
       "      <th></th>\n",
       "      <th></th>\n",
       "      <th></th>\n",
       "      <th></th>\n",
       "      <th></th>\n",
       "    </tr>\n",
       "  </thead>\n",
       "  <tbody>\n",
       "    <tr>\n",
       "      <th>uuid:0096689e-95b2-4d28-95b9-458d4a41245e</th>\n",
       "      <td>district A</td>\n",
       "      <td>cell_2</td>\n",
       "      <td>glanville</td>\n",
       "      <td>1</td>\n",
       "      <td>1.0</td>\n",
       "      <td>1.0</td>\n",
       "      <td>6.0</td>\n",
       "      <td>glanville</td>\n",
       "      <td>1.0</td>\n",
       "      <td>0.0</td>\n",
       "      <td>64.0</td>\n",
       "    </tr>\n",
       "    <tr>\n",
       "      <th>uuid:0096689e-95b2-4d28-95b9-458d4a41245e</th>\n",
       "      <td>district A</td>\n",
       "      <td>cell_2</td>\n",
       "      <td>glanville</td>\n",
       "      <td>1</td>\n",
       "      <td>1.0</td>\n",
       "      <td>1.0</td>\n",
       "      <td>6.0</td>\n",
       "      <td>jamey</td>\n",
       "      <td>3.0</td>\n",
       "      <td>0.0</td>\n",
       "      <td>11.0</td>\n",
       "    </tr>\n",
       "    <tr>\n",
       "      <th>uuid:0096689e-95b2-4d28-95b9-458d4a41245e</th>\n",
       "      <td>district A</td>\n",
       "      <td>cell_2</td>\n",
       "      <td>glanville</td>\n",
       "      <td>1</td>\n",
       "      <td>1.0</td>\n",
       "      <td>1.0</td>\n",
       "      <td>6.0</td>\n",
       "      <td>jedidiah</td>\n",
       "      <td>3.0</td>\n",
       "      <td>0.0</td>\n",
       "      <td>9.0</td>\n",
       "    </tr>\n",
       "    <tr>\n",
       "      <th>uuid:0096689e-95b2-4d28-95b9-458d4a41245e</th>\n",
       "      <td>district A</td>\n",
       "      <td>cell_2</td>\n",
       "      <td>glanville</td>\n",
       "      <td>1</td>\n",
       "      <td>1.0</td>\n",
       "      <td>1.0</td>\n",
       "      <td>6.0</td>\n",
       "      <td>corrie</td>\n",
       "      <td>2.0</td>\n",
       "      <td>1.0</td>\n",
       "      <td>41.0</td>\n",
       "    </tr>\n",
       "    <tr>\n",
       "      <th>uuid:0096689e-95b2-4d28-95b9-458d4a41245e</th>\n",
       "      <td>district A</td>\n",
       "      <td>cell_2</td>\n",
       "      <td>glanville</td>\n",
       "      <td>1</td>\n",
       "      <td>1.0</td>\n",
       "      <td>1.0</td>\n",
       "      <td>6.0</td>\n",
       "      <td>gaenor</td>\n",
       "      <td>3.0</td>\n",
       "      <td>1.0</td>\n",
       "      <td>15.0</td>\n",
       "    </tr>\n",
       "  </tbody>\n",
       "</table>\n",
       "</div>"
      ],
      "text/plain": [
       "                                             district    cell household_head  \\\n",
       "parent_key                                                                     \n",
       "uuid:0096689e-95b2-4d28-95b9-458d4a41245e  district A  cell_2      glanville   \n",
       "uuid:0096689e-95b2-4d28-95b9-458d4a41245e  district A  cell_2      glanville   \n",
       "uuid:0096689e-95b2-4d28-95b9-458d4a41245e  district A  cell_2      glanville   \n",
       "uuid:0096689e-95b2-4d28-95b9-458d4a41245e  district A  cell_2      glanville   \n",
       "uuid:0096689e-95b2-4d28-95b9-458d4a41245e  district A  cell_2      glanville   \n",
       "\n",
       "                                           find_hh  consent1  children_in_hh  \\\n",
       "parent_key                                                                     \n",
       "uuid:0096689e-95b2-4d28-95b9-458d4a41245e        1       1.0             1.0   \n",
       "uuid:0096689e-95b2-4d28-95b9-458d4a41245e        1       1.0             1.0   \n",
       "uuid:0096689e-95b2-4d28-95b9-458d4a41245e        1       1.0             1.0   \n",
       "uuid:0096689e-95b2-4d28-95b9-458d4a41245e        1       1.0             1.0   \n",
       "uuid:0096689e-95b2-4d28-95b9-458d4a41245e        1       1.0             1.0   \n",
       "\n",
       "                                           hhmembers name_hh_member  \\\n",
       "parent_key                                                            \n",
       "uuid:0096689e-95b2-4d28-95b9-458d4a41245e        6.0      glanville   \n",
       "uuid:0096689e-95b2-4d28-95b9-458d4a41245e        6.0          jamey   \n",
       "uuid:0096689e-95b2-4d28-95b9-458d4a41245e        6.0       jedidiah   \n",
       "uuid:0096689e-95b2-4d28-95b9-458d4a41245e        6.0         corrie   \n",
       "uuid:0096689e-95b2-4d28-95b9-458d4a41245e        6.0         gaenor   \n",
       "\n",
       "                                           relation_to_hh_head  \\\n",
       "parent_key                                                       \n",
       "uuid:0096689e-95b2-4d28-95b9-458d4a41245e                  1.0   \n",
       "uuid:0096689e-95b2-4d28-95b9-458d4a41245e                  3.0   \n",
       "uuid:0096689e-95b2-4d28-95b9-458d4a41245e                  3.0   \n",
       "uuid:0096689e-95b2-4d28-95b9-458d4a41245e                  2.0   \n",
       "uuid:0096689e-95b2-4d28-95b9-458d4a41245e                  3.0   \n",
       "\n",
       "                                           gender_hh_member  age_hh_member  \n",
       "parent_key                                                                  \n",
       "uuid:0096689e-95b2-4d28-95b9-458d4a41245e               0.0           64.0  \n",
       "uuid:0096689e-95b2-4d28-95b9-458d4a41245e               0.0           11.0  \n",
       "uuid:0096689e-95b2-4d28-95b9-458d4a41245e               0.0            9.0  \n",
       "uuid:0096689e-95b2-4d28-95b9-458d4a41245e               1.0           41.0  \n",
       "uuid:0096689e-95b2-4d28-95b9-458d4a41245e               1.0           15.0  "
      ]
     },
     "execution_count": 66,
     "metadata": {},
     "output_type": "execute_result"
    }
   ],
   "source": [
    "#check the head \n",
    "join_A.head()"
   ]
  },
  {
   "cell_type": "code",
   "execution_count": 67,
   "metadata": {},
   "outputs": [
    {
     "name": "stdout",
     "output_type": "stream",
     "text": [
      "<class 'pandas.core.frame.DataFrame'>\n",
      "Index: 1579 entries, uuid:006cf18f-2a0e-440e-8e8a-33ae63aa4e6d to uuid:ff8ed108-042a-455c-9c82-e44d95d93247\n",
      "Data columns (total 11 columns):\n",
      " #   Column               Non-Null Count  Dtype  \n",
      "---  ------               --------------  -----  \n",
      " 0   district             1579 non-null   object \n",
      " 1   cell                 1579 non-null   object \n",
      " 2   household_head       1579 non-null   object \n",
      " 3   find_hh              1579 non-null   int64  \n",
      " 4   consent1             1578 non-null   float64\n",
      " 5   children_in_hh       1578 non-null   float64\n",
      " 6   hhmembers            1571 non-null   float64\n",
      " 7   name_hh_member       1569 non-null   object \n",
      " 8   relation_to_hh_head  1571 non-null   float64\n",
      " 9   gender_hh_member     1571 non-null   float64\n",
      " 10  age_hh_member        1571 non-null   float64\n",
      "dtypes: float64(6), int64(1), object(4)\n",
      "memory usage: 148.0+ KB\n"
     ]
    }
   ],
   "source": [
    "#check the stastics\n",
    "join_B.info()"
   ]
  },
  {
   "cell_type": "code",
   "execution_count": 68,
   "metadata": {},
   "outputs": [
    {
     "data": {
      "text/html": [
       "<div>\n",
       "<style scoped>\n",
       "    .dataframe tbody tr th:only-of-type {\n",
       "        vertical-align: middle;\n",
       "    }\n",
       "\n",
       "    .dataframe tbody tr th {\n",
       "        vertical-align: top;\n",
       "    }\n",
       "\n",
       "    .dataframe thead th {\n",
       "        text-align: right;\n",
       "    }\n",
       "</style>\n",
       "<table border=\"1\" class=\"dataframe\">\n",
       "  <thead>\n",
       "    <tr style=\"text-align: right;\">\n",
       "      <th></th>\n",
       "      <th>district</th>\n",
       "      <th>cell</th>\n",
       "      <th>household_head</th>\n",
       "      <th>find_hh</th>\n",
       "      <th>consent1</th>\n",
       "      <th>children_in_hh</th>\n",
       "      <th>hhmembers</th>\n",
       "      <th>name_hh_member</th>\n",
       "      <th>relation_to_hh_head</th>\n",
       "      <th>gender_hh_member</th>\n",
       "      <th>age_hh_member</th>\n",
       "    </tr>\n",
       "    <tr>\n",
       "      <th>parent_key</th>\n",
       "      <th></th>\n",
       "      <th></th>\n",
       "      <th></th>\n",
       "      <th></th>\n",
       "      <th></th>\n",
       "      <th></th>\n",
       "      <th></th>\n",
       "      <th></th>\n",
       "      <th></th>\n",
       "      <th></th>\n",
       "      <th></th>\n",
       "    </tr>\n",
       "  </thead>\n",
       "  <tbody>\n",
       "    <tr>\n",
       "      <th>uuid:006cf18f-2a0e-440e-8e8a-33ae63aa4e6d</th>\n",
       "      <td>district B</td>\n",
       "      <td>cell_2</td>\n",
       "      <td>floella</td>\n",
       "      <td>1</td>\n",
       "      <td>1.0</td>\n",
       "      <td>1.0</td>\n",
       "      <td>5.0</td>\n",
       "      <td>bartholomew</td>\n",
       "      <td>3.0</td>\n",
       "      <td>0.0</td>\n",
       "      <td>4.0</td>\n",
       "    </tr>\n",
       "    <tr>\n",
       "      <th>uuid:006cf18f-2a0e-440e-8e8a-33ae63aa4e6d</th>\n",
       "      <td>district B</td>\n",
       "      <td>cell_2</td>\n",
       "      <td>floella</td>\n",
       "      <td>1</td>\n",
       "      <td>1.0</td>\n",
       "      <td>1.0</td>\n",
       "      <td>5.0</td>\n",
       "      <td>floella</td>\n",
       "      <td>1.0</td>\n",
       "      <td>1.0</td>\n",
       "      <td>41.0</td>\n",
       "    </tr>\n",
       "    <tr>\n",
       "      <th>uuid:006cf18f-2a0e-440e-8e8a-33ae63aa4e6d</th>\n",
       "      <td>district B</td>\n",
       "      <td>cell_2</td>\n",
       "      <td>floella</td>\n",
       "      <td>1</td>\n",
       "      <td>1.0</td>\n",
       "      <td>1.0</td>\n",
       "      <td>5.0</td>\n",
       "      <td>mary</td>\n",
       "      <td>3.0</td>\n",
       "      <td>1.0</td>\n",
       "      <td>13.0</td>\n",
       "    </tr>\n",
       "    <tr>\n",
       "      <th>uuid:006cf18f-2a0e-440e-8e8a-33ae63aa4e6d</th>\n",
       "      <td>district B</td>\n",
       "      <td>cell_2</td>\n",
       "      <td>floella</td>\n",
       "      <td>1</td>\n",
       "      <td>1.0</td>\n",
       "      <td>1.0</td>\n",
       "      <td>5.0</td>\n",
       "      <td>sethunya</td>\n",
       "      <td>3.0</td>\n",
       "      <td>1.0</td>\n",
       "      <td>13.0</td>\n",
       "    </tr>\n",
       "    <tr>\n",
       "      <th>uuid:006cf18f-2a0e-440e-8e8a-33ae63aa4e6d</th>\n",
       "      <td>district B</td>\n",
       "      <td>cell_2</td>\n",
       "      <td>floella</td>\n",
       "      <td>1</td>\n",
       "      <td>1.0</td>\n",
       "      <td>1.0</td>\n",
       "      <td>5.0</td>\n",
       "      <td>adjoa</td>\n",
       "      <td>3.0</td>\n",
       "      <td>1.0</td>\n",
       "      <td>1.0</td>\n",
       "    </tr>\n",
       "  </tbody>\n",
       "</table>\n",
       "</div>"
      ],
      "text/plain": [
       "                                             district    cell household_head  \\\n",
       "parent_key                                                                     \n",
       "uuid:006cf18f-2a0e-440e-8e8a-33ae63aa4e6d  district B  cell_2        floella   \n",
       "uuid:006cf18f-2a0e-440e-8e8a-33ae63aa4e6d  district B  cell_2        floella   \n",
       "uuid:006cf18f-2a0e-440e-8e8a-33ae63aa4e6d  district B  cell_2        floella   \n",
       "uuid:006cf18f-2a0e-440e-8e8a-33ae63aa4e6d  district B  cell_2        floella   \n",
       "uuid:006cf18f-2a0e-440e-8e8a-33ae63aa4e6d  district B  cell_2        floella   \n",
       "\n",
       "                                           find_hh  consent1  children_in_hh  \\\n",
       "parent_key                                                                     \n",
       "uuid:006cf18f-2a0e-440e-8e8a-33ae63aa4e6d        1       1.0             1.0   \n",
       "uuid:006cf18f-2a0e-440e-8e8a-33ae63aa4e6d        1       1.0             1.0   \n",
       "uuid:006cf18f-2a0e-440e-8e8a-33ae63aa4e6d        1       1.0             1.0   \n",
       "uuid:006cf18f-2a0e-440e-8e8a-33ae63aa4e6d        1       1.0             1.0   \n",
       "uuid:006cf18f-2a0e-440e-8e8a-33ae63aa4e6d        1       1.0             1.0   \n",
       "\n",
       "                                           hhmembers name_hh_member  \\\n",
       "parent_key                                                            \n",
       "uuid:006cf18f-2a0e-440e-8e8a-33ae63aa4e6d        5.0    bartholomew   \n",
       "uuid:006cf18f-2a0e-440e-8e8a-33ae63aa4e6d        5.0        floella   \n",
       "uuid:006cf18f-2a0e-440e-8e8a-33ae63aa4e6d        5.0           mary   \n",
       "uuid:006cf18f-2a0e-440e-8e8a-33ae63aa4e6d        5.0       sethunya   \n",
       "uuid:006cf18f-2a0e-440e-8e8a-33ae63aa4e6d        5.0          adjoa   \n",
       "\n",
       "                                           relation_to_hh_head  \\\n",
       "parent_key                                                       \n",
       "uuid:006cf18f-2a0e-440e-8e8a-33ae63aa4e6d                  3.0   \n",
       "uuid:006cf18f-2a0e-440e-8e8a-33ae63aa4e6d                  1.0   \n",
       "uuid:006cf18f-2a0e-440e-8e8a-33ae63aa4e6d                  3.0   \n",
       "uuid:006cf18f-2a0e-440e-8e8a-33ae63aa4e6d                  3.0   \n",
       "uuid:006cf18f-2a0e-440e-8e8a-33ae63aa4e6d                  3.0   \n",
       "\n",
       "                                           gender_hh_member  age_hh_member  \n",
       "parent_key                                                                  \n",
       "uuid:006cf18f-2a0e-440e-8e8a-33ae63aa4e6d               0.0            4.0  \n",
       "uuid:006cf18f-2a0e-440e-8e8a-33ae63aa4e6d               1.0           41.0  \n",
       "uuid:006cf18f-2a0e-440e-8e8a-33ae63aa4e6d               1.0           13.0  \n",
       "uuid:006cf18f-2a0e-440e-8e8a-33ae63aa4e6d               1.0           13.0  \n",
       "uuid:006cf18f-2a0e-440e-8e8a-33ae63aa4e6d               1.0            1.0  "
      ]
     },
     "execution_count": 68,
     "metadata": {},
     "output_type": "execute_result"
    }
   ],
   "source": [
    "#check the head\n",
    "join_B.head()"
   ]
  },
  {
   "cell_type": "code",
   "execution_count": 69,
   "metadata": {},
   "outputs": [
    {
     "name": "stdout",
     "output_type": "stream",
     "text": [
      "<class 'pandas.core.frame.DataFrame'>\n",
      "RangeIndex: 3769 entries, 0 to 3768\n",
      "Data columns (total 11 columns):\n",
      " #   Column               Non-Null Count  Dtype  \n",
      "---  ------               --------------  -----  \n",
      " 0   district             3769 non-null   object \n",
      " 1   cell                 3769 non-null   object \n",
      " 2   household_head       3769 non-null   object \n",
      " 3   find_hh              3769 non-null   int64  \n",
      " 4   consent1             3765 non-null   float64\n",
      " 5   children_in_hh       3758 non-null   float64\n",
      " 6   hhmembers            3741 non-null   float64\n",
      " 7   name_hh_member       3745 non-null   object \n",
      " 8   relation_to_hh_head  3747 non-null   float64\n",
      " 9   gender_hh_member     3747 non-null   float64\n",
      " 10  age_hh_member        3747 non-null   float64\n",
      "dtypes: float64(6), int64(1), object(4)\n",
      "memory usage: 324.0+ KB\n"
     ]
    }
   ],
   "source": [
    "#merge the two district  to create the all house hold dataset\n",
    "totalHousehold= pd.concat([join_A, join_B], ignore_index=True)\n",
    "totalHousehold.info()"
   ]
  },
  {
   "cell_type": "code",
   "execution_count": 70,
   "metadata": {},
   "outputs": [
    {
     "data": {
      "text/html": [
       "<div>\n",
       "<style scoped>\n",
       "    .dataframe tbody tr th:only-of-type {\n",
       "        vertical-align: middle;\n",
       "    }\n",
       "\n",
       "    .dataframe tbody tr th {\n",
       "        vertical-align: top;\n",
       "    }\n",
       "\n",
       "    .dataframe thead th {\n",
       "        text-align: right;\n",
       "    }\n",
       "</style>\n",
       "<table border=\"1\" class=\"dataframe\">\n",
       "  <thead>\n",
       "    <tr style=\"text-align: right;\">\n",
       "      <th></th>\n",
       "      <th>district</th>\n",
       "      <th>cell</th>\n",
       "      <th>household_head</th>\n",
       "      <th>find_hh</th>\n",
       "      <th>consent1</th>\n",
       "      <th>children_in_hh</th>\n",
       "      <th>hhmembers</th>\n",
       "      <th>name_hh_member</th>\n",
       "      <th>relation_to_hh_head</th>\n",
       "      <th>gender_hh_member</th>\n",
       "      <th>age_hh_member</th>\n",
       "    </tr>\n",
       "  </thead>\n",
       "  <tbody>\n",
       "    <tr>\n",
       "      <th>0</th>\n",
       "      <td>district A</td>\n",
       "      <td>cell_2</td>\n",
       "      <td>glanville</td>\n",
       "      <td>1</td>\n",
       "      <td>1.0</td>\n",
       "      <td>1.0</td>\n",
       "      <td>6.0</td>\n",
       "      <td>glanville</td>\n",
       "      <td>1.0</td>\n",
       "      <td>0.0</td>\n",
       "      <td>64.0</td>\n",
       "    </tr>\n",
       "    <tr>\n",
       "      <th>1</th>\n",
       "      <td>district A</td>\n",
       "      <td>cell_2</td>\n",
       "      <td>glanville</td>\n",
       "      <td>1</td>\n",
       "      <td>1.0</td>\n",
       "      <td>1.0</td>\n",
       "      <td>6.0</td>\n",
       "      <td>jamey</td>\n",
       "      <td>3.0</td>\n",
       "      <td>0.0</td>\n",
       "      <td>11.0</td>\n",
       "    </tr>\n",
       "    <tr>\n",
       "      <th>2</th>\n",
       "      <td>district A</td>\n",
       "      <td>cell_2</td>\n",
       "      <td>glanville</td>\n",
       "      <td>1</td>\n",
       "      <td>1.0</td>\n",
       "      <td>1.0</td>\n",
       "      <td>6.0</td>\n",
       "      <td>jedidiah</td>\n",
       "      <td>3.0</td>\n",
       "      <td>0.0</td>\n",
       "      <td>9.0</td>\n",
       "    </tr>\n",
       "    <tr>\n",
       "      <th>3</th>\n",
       "      <td>district A</td>\n",
       "      <td>cell_2</td>\n",
       "      <td>glanville</td>\n",
       "      <td>1</td>\n",
       "      <td>1.0</td>\n",
       "      <td>1.0</td>\n",
       "      <td>6.0</td>\n",
       "      <td>corrie</td>\n",
       "      <td>2.0</td>\n",
       "      <td>1.0</td>\n",
       "      <td>41.0</td>\n",
       "    </tr>\n",
       "    <tr>\n",
       "      <th>4</th>\n",
       "      <td>district A</td>\n",
       "      <td>cell_2</td>\n",
       "      <td>glanville</td>\n",
       "      <td>1</td>\n",
       "      <td>1.0</td>\n",
       "      <td>1.0</td>\n",
       "      <td>6.0</td>\n",
       "      <td>gaenor</td>\n",
       "      <td>3.0</td>\n",
       "      <td>1.0</td>\n",
       "      <td>15.0</td>\n",
       "    </tr>\n",
       "  </tbody>\n",
       "</table>\n",
       "</div>"
      ],
      "text/plain": [
       "     district    cell household_head  find_hh  consent1  children_in_hh  \\\n",
       "0  district A  cell_2      glanville        1       1.0             1.0   \n",
       "1  district A  cell_2      glanville        1       1.0             1.0   \n",
       "2  district A  cell_2      glanville        1       1.0             1.0   \n",
       "3  district A  cell_2      glanville        1       1.0             1.0   \n",
       "4  district A  cell_2      glanville        1       1.0             1.0   \n",
       "\n",
       "   hhmembers name_hh_member  relation_to_hh_head  gender_hh_member  \\\n",
       "0        6.0      glanville                  1.0               0.0   \n",
       "1        6.0          jamey                  3.0               0.0   \n",
       "2        6.0       jedidiah                  3.0               0.0   \n",
       "3        6.0         corrie                  2.0               1.0   \n",
       "4        6.0         gaenor                  3.0               1.0   \n",
       "\n",
       "   age_hh_member  \n",
       "0           64.0  \n",
       "1           11.0  \n",
       "2            9.0  \n",
       "3           41.0  \n",
       "4           15.0  "
      ]
     },
     "execution_count": 70,
     "metadata": {},
     "output_type": "execute_result"
    }
   ],
   "source": [
    "totalHousehold.head()"
   ]
  },
  {
   "cell_type": "code",
   "execution_count": 71,
   "metadata": {},
   "outputs": [],
   "source": [
    "#Save the dataset\n",
    "totalHousehold.to_csv('all_households_edris_20210117.csv') "
   ]
  },
  {
   "cell_type": "markdown",
   "metadata": {},
   "source": [
    "# Questions 3"
   ]
  },
  {
   "cell_type": "markdown",
   "metadata": {},
   "source": [
    "At the end of field preparation, there were enough households with children under 3 to meet the sampling requirements. Therefore, please output another dataset consisting of only the eligible households that will be interviewed during data collection. In this dataset, create additional variables for the eligible child or children, i.e., their names, age and gender. Save this dataset as “all_eligible_yourname_yyyymmdd”."
   ]
  },
  {
   "cell_type": "code",
   "execution_count": 72,
   "metadata": {},
   "outputs": [],
   "source": [
    "#age unders 3 households see more at  -> https://stackoverflow.com/questions/20625582/how-to-deal-with-settingwithcopywarning-in-pandas\n",
    "ageUnderThreeHouseHolds = totalHousehold.loc[totalHousehold.age_hh_member < 3, :] "
   ]
  },
  {
   "cell_type": "code",
   "execution_count": 73,
   "metadata": {},
   "outputs": [
    {
     "name": "stdout",
     "output_type": "stream",
     "text": [
      "<class 'pandas.core.frame.DataFrame'>\n",
      "Int64Index: 539 entries, 5 to 3768\n",
      "Data columns (total 11 columns):\n",
      " #   Column               Non-Null Count  Dtype  \n",
      "---  ------               --------------  -----  \n",
      " 0   district             539 non-null    object \n",
      " 1   cell                 539 non-null    object \n",
      " 2   household_head       539 non-null    object \n",
      " 3   find_hh              539 non-null    int64  \n",
      " 4   consent1             539 non-null    float64\n",
      " 5   children_in_hh       539 non-null    float64\n",
      " 6   hhmembers            538 non-null    float64\n",
      " 7   name_hh_member       538 non-null    object \n",
      " 8   relation_to_hh_head  539 non-null    float64\n",
      " 9   gender_hh_member     539 non-null    float64\n",
      " 10  age_hh_member        539 non-null    float64\n",
      "dtypes: float64(6), int64(1), object(4)\n",
      "memory usage: 50.5+ KB\n"
     ]
    }
   ],
   "source": [
    "ageUnderThreeHouseHolds.info()\n"
   ]
  },
  {
   "cell_type": "code",
   "execution_count": 74,
   "metadata": {
    "scrolled": true
   },
   "outputs": [
    {
     "data": {
      "text/html": [
       "<div>\n",
       "<style scoped>\n",
       "    .dataframe tbody tr th:only-of-type {\n",
       "        vertical-align: middle;\n",
       "    }\n",
       "\n",
       "    .dataframe tbody tr th {\n",
       "        vertical-align: top;\n",
       "    }\n",
       "\n",
       "    .dataframe thead th {\n",
       "        text-align: right;\n",
       "    }\n",
       "</style>\n",
       "<table border=\"1\" class=\"dataframe\">\n",
       "  <thead>\n",
       "    <tr style=\"text-align: right;\">\n",
       "      <th></th>\n",
       "      <th>district</th>\n",
       "      <th>cell</th>\n",
       "      <th>household_head</th>\n",
       "      <th>find_hh</th>\n",
       "      <th>consent1</th>\n",
       "      <th>children_in_hh</th>\n",
       "      <th>hhmembers</th>\n",
       "      <th>name_hh_member</th>\n",
       "      <th>relation_to_hh_head</th>\n",
       "      <th>gender_hh_member</th>\n",
       "      <th>age_hh_member</th>\n",
       "    </tr>\n",
       "  </thead>\n",
       "  <tbody>\n",
       "    <tr>\n",
       "      <th>5</th>\n",
       "      <td>district A</td>\n",
       "      <td>cell_2</td>\n",
       "      <td>glanville</td>\n",
       "      <td>1</td>\n",
       "      <td>1.0</td>\n",
       "      <td>1.0</td>\n",
       "      <td>6.0</td>\n",
       "      <td>lucile</td>\n",
       "      <td>3.0</td>\n",
       "      <td>1.0</td>\n",
       "      <td>2.0</td>\n",
       "    </tr>\n",
       "    <tr>\n",
       "      <th>11</th>\n",
       "      <td>district A</td>\n",
       "      <td>cell_1</td>\n",
       "      <td>lennon</td>\n",
       "      <td>1</td>\n",
       "      <td>1.0</td>\n",
       "      <td>1.0</td>\n",
       "      <td>6.0</td>\n",
       "      <td>lorainne</td>\n",
       "      <td>3.0</td>\n",
       "      <td>1.0</td>\n",
       "      <td>1.0</td>\n",
       "    </tr>\n",
       "    <tr>\n",
       "      <th>19</th>\n",
       "      <td>district A</td>\n",
       "      <td>cell_3</td>\n",
       "      <td>arlette</td>\n",
       "      <td>1</td>\n",
       "      <td>1.0</td>\n",
       "      <td>1.0</td>\n",
       "      <td>5.0</td>\n",
       "      <td>nehemiah</td>\n",
       "      <td>5.0</td>\n",
       "      <td>0.0</td>\n",
       "      <td>2.0</td>\n",
       "    </tr>\n",
       "    <tr>\n",
       "      <th>29</th>\n",
       "      <td>district A</td>\n",
       "      <td>cell_2</td>\n",
       "      <td>teresa</td>\n",
       "      <td>1</td>\n",
       "      <td>1.0</td>\n",
       "      <td>1.0</td>\n",
       "      <td>8.0</td>\n",
       "      <td>sera</td>\n",
       "      <td>3.0</td>\n",
       "      <td>1.0</td>\n",
       "      <td>1.0</td>\n",
       "    </tr>\n",
       "    <tr>\n",
       "      <th>30</th>\n",
       "      <td>district A</td>\n",
       "      <td>cell_2</td>\n",
       "      <td>deniece</td>\n",
       "      <td>1</td>\n",
       "      <td>1.0</td>\n",
       "      <td>1.0</td>\n",
       "      <td>4.0</td>\n",
       "      <td>wymond</td>\n",
       "      <td>13.0</td>\n",
       "      <td>0.0</td>\n",
       "      <td>2.0</td>\n",
       "    </tr>\n",
       "  </tbody>\n",
       "</table>\n",
       "</div>"
      ],
      "text/plain": [
       "      district    cell household_head  find_hh  consent1  children_in_hh  \\\n",
       "5   district A  cell_2      glanville        1       1.0             1.0   \n",
       "11  district A  cell_1         lennon        1       1.0             1.0   \n",
       "19  district A  cell_3        arlette        1       1.0             1.0   \n",
       "29  district A  cell_2         teresa        1       1.0             1.0   \n",
       "30  district A  cell_2        deniece        1       1.0             1.0   \n",
       "\n",
       "    hhmembers name_hh_member  relation_to_hh_head  gender_hh_member  \\\n",
       "5         6.0         lucile                  3.0               1.0   \n",
       "11        6.0       lorainne                  3.0               1.0   \n",
       "19        5.0       nehemiah                  5.0               0.0   \n",
       "29        8.0           sera                  3.0               1.0   \n",
       "30        4.0         wymond                 13.0               0.0   \n",
       "\n",
       "    age_hh_member  \n",
       "5             2.0  \n",
       "11            1.0  \n",
       "19            2.0  \n",
       "29            1.0  \n",
       "30            2.0  "
      ]
     },
     "execution_count": 74,
     "metadata": {},
     "output_type": "execute_result"
    }
   ],
   "source": [
    "ageUnderThreeHouseHolds.head()"
   ]
  },
  {
   "cell_type": "markdown",
   "metadata": {},
   "source": [
    " ### create additional variables for the eligible child or children, i.e., their names, age and gender\n",
    "    "
   ]
  },
  {
   "cell_type": "code",
   "execution_count": 75,
   "metadata": {},
   "outputs": [
    {
     "data": {
      "text/html": [
       "<div>\n",
       "<style scoped>\n",
       "    .dataframe tbody tr th:only-of-type {\n",
       "        vertical-align: middle;\n",
       "    }\n",
       "\n",
       "    .dataframe tbody tr th {\n",
       "        vertical-align: top;\n",
       "    }\n",
       "\n",
       "    .dataframe thead th {\n",
       "        text-align: right;\n",
       "    }\n",
       "</style>\n",
       "<table border=\"1\" class=\"dataframe\">\n",
       "  <thead>\n",
       "    <tr style=\"text-align: right;\">\n",
       "      <th></th>\n",
       "      <th>district</th>\n",
       "      <th>cell</th>\n",
       "      <th>household_head</th>\n",
       "      <th>find_hh</th>\n",
       "      <th>consent1</th>\n",
       "      <th>children_in_hh</th>\n",
       "      <th>hhmembers</th>\n",
       "      <th>name_hh_member</th>\n",
       "      <th>relation_to_hh_head</th>\n",
       "      <th>gender_hh_member</th>\n",
       "      <th>age_hh_member</th>\n",
       "      <th>name</th>\n",
       "      <th>age</th>\n",
       "      <th>gender</th>\n",
       "    </tr>\n",
       "  </thead>\n",
       "  <tbody>\n",
       "    <tr>\n",
       "      <th>5</th>\n",
       "      <td>district A</td>\n",
       "      <td>cell_2</td>\n",
       "      <td>glanville</td>\n",
       "      <td>1</td>\n",
       "      <td>1.0</td>\n",
       "      <td>1.0</td>\n",
       "      <td>6.0</td>\n",
       "      <td>lucile</td>\n",
       "      <td>3.0</td>\n",
       "      <td>1.0</td>\n",
       "      <td>2.0</td>\n",
       "      <td>lucile</td>\n",
       "      <td>2.0</td>\n",
       "      <td>1.0</td>\n",
       "    </tr>\n",
       "    <tr>\n",
       "      <th>11</th>\n",
       "      <td>district A</td>\n",
       "      <td>cell_1</td>\n",
       "      <td>lennon</td>\n",
       "      <td>1</td>\n",
       "      <td>1.0</td>\n",
       "      <td>1.0</td>\n",
       "      <td>6.0</td>\n",
       "      <td>lorainne</td>\n",
       "      <td>3.0</td>\n",
       "      <td>1.0</td>\n",
       "      <td>1.0</td>\n",
       "      <td>lorainne</td>\n",
       "      <td>1.0</td>\n",
       "      <td>1.0</td>\n",
       "    </tr>\n",
       "    <tr>\n",
       "      <th>19</th>\n",
       "      <td>district A</td>\n",
       "      <td>cell_3</td>\n",
       "      <td>arlette</td>\n",
       "      <td>1</td>\n",
       "      <td>1.0</td>\n",
       "      <td>1.0</td>\n",
       "      <td>5.0</td>\n",
       "      <td>nehemiah</td>\n",
       "      <td>5.0</td>\n",
       "      <td>0.0</td>\n",
       "      <td>2.0</td>\n",
       "      <td>nehemiah</td>\n",
       "      <td>2.0</td>\n",
       "      <td>0.0</td>\n",
       "    </tr>\n",
       "    <tr>\n",
       "      <th>29</th>\n",
       "      <td>district A</td>\n",
       "      <td>cell_2</td>\n",
       "      <td>teresa</td>\n",
       "      <td>1</td>\n",
       "      <td>1.0</td>\n",
       "      <td>1.0</td>\n",
       "      <td>8.0</td>\n",
       "      <td>sera</td>\n",
       "      <td>3.0</td>\n",
       "      <td>1.0</td>\n",
       "      <td>1.0</td>\n",
       "      <td>sera</td>\n",
       "      <td>1.0</td>\n",
       "      <td>1.0</td>\n",
       "    </tr>\n",
       "    <tr>\n",
       "      <th>30</th>\n",
       "      <td>district A</td>\n",
       "      <td>cell_2</td>\n",
       "      <td>deniece</td>\n",
       "      <td>1</td>\n",
       "      <td>1.0</td>\n",
       "      <td>1.0</td>\n",
       "      <td>4.0</td>\n",
       "      <td>wymond</td>\n",
       "      <td>13.0</td>\n",
       "      <td>0.0</td>\n",
       "      <td>2.0</td>\n",
       "      <td>wymond</td>\n",
       "      <td>2.0</td>\n",
       "      <td>0.0</td>\n",
       "    </tr>\n",
       "  </tbody>\n",
       "</table>\n",
       "</div>"
      ],
      "text/plain": [
       "      district    cell household_head  find_hh  consent1  children_in_hh  \\\n",
       "5   district A  cell_2      glanville        1       1.0             1.0   \n",
       "11  district A  cell_1         lennon        1       1.0             1.0   \n",
       "19  district A  cell_3        arlette        1       1.0             1.0   \n",
       "29  district A  cell_2         teresa        1       1.0             1.0   \n",
       "30  district A  cell_2        deniece        1       1.0             1.0   \n",
       "\n",
       "    hhmembers name_hh_member  relation_to_hh_head  gender_hh_member  \\\n",
       "5         6.0         lucile                  3.0               1.0   \n",
       "11        6.0       lorainne                  3.0               1.0   \n",
       "19        5.0       nehemiah                  5.0               0.0   \n",
       "29        8.0           sera                  3.0               1.0   \n",
       "30        4.0         wymond                 13.0               0.0   \n",
       "\n",
       "    age_hh_member      name  age  gender  \n",
       "5             2.0    lucile  2.0     1.0  \n",
       "11            1.0  lorainne  1.0     1.0  \n",
       "19            2.0  nehemiah  2.0     0.0  \n",
       "29            1.0      sera  1.0     1.0  \n",
       "30            2.0    wymond  2.0     0.0  "
      ]
     },
     "execution_count": 75,
     "metadata": {},
     "output_type": "execute_result"
    }
   ],
   "source": [
    "#creating new variables see more at -> https://stackoverflow.com/questions/20625582/how-to-deal-with-settingwithcopywarning-in-pandas =>https://www.geeksforgeeks.org/adding-new-column-to-existing-dataframe-in-pandas/\n",
    "ageUnderThreeHouseHolds.loc[:,'name'] = ageUnderThreeHouseHolds.loc[:,'name_hh_member'].values[:]\n",
    "ageUnderThreeHouseHolds.loc[:,'age'] = ageUnderThreeHouseHolds.loc[:,'age_hh_member'].values[:]\n",
    "ageUnderThreeHouseHolds.loc[:,'gender'] = ageUnderThreeHouseHolds.loc[:,'gender_hh_member'].values[:]\n",
    "\n",
    "ageUnderThreeHouseHolds.head()"
   ]
  },
  {
   "cell_type": "code",
   "execution_count": 76,
   "metadata": {},
   "outputs": [],
   "source": [
    "# save all eligable houses all_eligible_yourname_yyyymmdd”\n",
    "ageUnderThreeHouseHolds.to_csv('all_eligible_edris_20210119.csv') "
   ]
  },
  {
   "cell_type": "markdown",
   "metadata": {},
   "source": [
    "# Questions 4"
   ]
  },
  {
   "cell_type": "markdown",
   "metadata": {},
   "source": [
    "To aid the data team in drafting a data collection field plan, please extract a list of eligible households per district in .csv format, with each cell on a separate tab."
   ]
  },
  {
   "cell_type": "code",
   "execution_count": 77,
   "metadata": {},
   "outputs": [
    {
     "data": {
      "text/plain": [
       "<matplotlib.axes._subplots.AxesSubplot at 0x7faa9e12ba90>"
      ]
     },
     "execution_count": 77,
     "metadata": {},
     "output_type": "execute_result"
    },
    {
     "data": {
      "image/png": "[encoded data removed]",
      "text/plain": [
       "<Figure size 432x288 with 1 Axes>"
      ]
     },
     "metadata": {
      "needs_background": "light"
     },
     "output_type": "display_data"
    }
   ],
   "source": [
    "#total houses in both district A and B\n",
    "ageUnderThreeHouseHolds.district.hist()"
   ]
  },
  {
   "cell_type": "code",
   "execution_count": 78,
   "metadata": {},
   "outputs": [],
   "source": [
    "districtAHouses = ageUnderThreeHouseHolds.loc[ageUnderThreeHouseHolds.district == 'district A', :] "
   ]
  },
  {
   "cell_type": "code",
   "execution_count": 79,
   "metadata": {},
   "outputs": [
    {
     "data": {
      "text/plain": [
       "<matplotlib.axes._subplots.AxesSubplot at 0x7faa9b0a9880>"
      ]
     },
     "execution_count": 79,
     "metadata": {},
     "output_type": "execute_result"
    },
    {
     "data": {
      "image/png": "[encoded data removed]",
      "text/plain": [
       "<Figure size 432x288 with 1 Axes>"
      ]
     },
     "metadata": {
      "needs_background": "light"
     },
     "output_type": "display_data"
    }
   ],
   "source": [
    "districtAHouses.district.hist()"
   ]
  },
  {
   "cell_type": "code",
   "execution_count": 80,
   "metadata": {},
   "outputs": [],
   "source": [
    "#save disctrictA data\n",
    "districtAHouses.to_csv('all_districtA_edris_20210119.csv') "
   ]
  },
  {
   "cell_type": "code",
   "execution_count": 81,
   "metadata": {},
   "outputs": [],
   "source": [
    "districtBHouses = ageUnderThreeHouseHolds.loc[ageUnderThreeHouseHolds.district == 'district B', :] "
   ]
  },
  {
   "cell_type": "code",
   "execution_count": 82,
   "metadata": {},
   "outputs": [
    {
     "data": {
      "text/plain": [
       "<matplotlib.axes._subplots.AxesSubplot at 0x7faa9b167310>"
      ]
     },
     "execution_count": 82,
     "metadata": {},
     "output_type": "execute_result"
    },
    {
     "data": {
      "image/png": "[encoded data removed]",
      "text/plain": [
       "<Figure size 432x288 with 1 Axes>"
      ]
     },
     "metadata": {
      "needs_background": "light"
     },
     "output_type": "display_data"
    }
   ],
   "source": [
    "districtBHouses.district.hist()"
   ]
  },
  {
   "cell_type": "code",
   "execution_count": 83,
   "metadata": {},
   "outputs": [],
   "source": [
    "#save disctrictA data\n",
    "districtBHouses.to_csv('all_districtB_edris_20210119.csv') "
   ]
  }
 ],
 "metadata": {
  "kernelspec": {
   "display_name": "Python 3",
   "language": "python",
   "name": "python3"
  },
  "language_info": {
   "codemirror_mode": {
    "name": "ipython",
    "version": 3
   },
   "file_extension": ".py",
   "mimetype": "text/x-python",
   "name": "python",
   "nbconvert_exporter": "python",
   "pygments_lexer": "ipython3",
   "version": "3.8.3"
  }
 },
 "nbformat": 4,
 "nbformat_minor": 4
}
